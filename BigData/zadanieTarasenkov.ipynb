{
 "cells": [
  {
   "cell_type": "markdown",
   "metadata": {},
   "source": [
    "# Машинное обучение\n",
    "\n",
    "Практическое задание 1 посвящено изучению основных библиотек для анализа данных, а также линейных моделей и методов их обучения. Вы научитесь:\n",
    " * применять библиотеки NumPy и Pandas для осуществления желаемых преобразований;\n",
    " * подготавливать данные для обучения линейных моделей;\n",
    " * обучать линейную, Lasso и Ridge-регрессии при помощи модуля scikit-learn;\n",
    " * реализовывать обычный и стохастический градиентные спуски;\n",
    " * обучать линейную регрессию для произвольного функционала качества."
   ]
  },
  {
   "cell_type": "markdown",
   "metadata": {},
   "source": [
    "## Библиотеки для анализа данных\n",
    "\n",
    "### NumPy\n",
    "\n",
    "Во всех заданиях данного раздела запрещено использовать циклы  и list comprehensions. Под вектором и матрицей в данных заданиях понимается одномерный и двумерный numpy.array соответственно."
   ]
  },
  {
   "cell_type": "code",
   "execution_count": null,
   "metadata": {
    "collapsed": true
   },
   "outputs": [],
   "source": [
    "import numpy as np"
   ]
  },
  {
   "cell_type": "markdown",
   "metadata": {},
   "source": [
    "Реализуйте функцию, возвращающую максимальный элемент в векторе x среди элементов, перед которыми стоит нулевой. Для x = np.array([6, 2, 0, 3, 0, 0, 5, 7, 0]) ответом является 5. Если нулевых элементов нет, функция должна возвращать None.\n"
   ]
  },
  {
   "cell_type": "code",
   "execution_count": null,
   "metadata": {
    "collapsed": true
   },
   "outputs": [],
   "source": [
    "def max_element(arr):\n",
    "    try:\n",
    "        return arr[1:][(arr==0)[:-1]].max()\n",
    "    except:\n",
    "        return None"
   ]
  },
  {
   "cell_type": "markdown",
   "metadata": {},
   "source": [
    "Реализуйте функцию, принимающую на вход матрицу и некоторое число и возвращающую ближайший к числу элемент матрицы. Например: для X = np.arange(0,10).reshape((2, 5)) и v = 3.6 ответом будет 4."
   ]
  },
  {
   "cell_type": "code",
   "execution_count": null,
   "metadata": {
    "collapsed": true
   },
   "outputs": [],
   "source": [
    "def nearest_value(X, v):\n",
    "    razn = abs(v - X)\n",
    "    minInd = np.argmin(razn)\n",
    "    return X.ravel()[minInd]\n"
   ]
  },
  {
   "cell_type": "markdown",
   "metadata": {},
   "source": [
    "Реализуйте функцию scale(X), которая принимает на вход матрицу и масштабирует каждый ее столбец (вычитает выборочное среднее и делит на стандартное отклонение). Убедитесь, что в функции не будет происходить деления на ноль. Протестируйте на случайной матрице (для её генерации можно использовать, например, функцию [numpy.random.randint](http://docs.scipy.org/doc/numpy/reference/generated/numpy.random.randint.html))."
   ]
  },
  {
   "cell_type": "code",
   "execution_count": null,
   "metadata": {
    "collapsed": true
   },
   "outputs": [],
   "source": [
    "def scale(X):\n",
    "    def scale(X):\n",
    "    Xmean = np.mean(X, axis=0)\n",
    "    Xstd = np.std(X, axis=0)\n",
    "    try:\n",
    "        return (X-Xmean)/Xstd\n",
    "    except ZeroDivisionError:\n",
    "        return None"
   ]
  },
  {
   "cell_type": "markdown",
   "metadata": {},
   "source": [
    " Реализуйте функцию, которая для заданной матрицы находит:\n",
    " - определитель\n",
    " - след\n",
    " - наименьший и наибольший элементы\n",
    " - норму Фробениуса\n",
    " - собственные числа\n",
    " - обратную матрицу\n",
    "\n",
    "Для тестирования сгенерируйте матрицу с элементами из нормального распределения $\\mathcal{N}$(10,1)"
   ]
  },
  {
   "cell_type": "code",
   "execution_count": 77,
   "metadata": {},
   "outputs": [
    {
     "name": "stdout",
     "output_type": "stream",
     "text": [
      "[[0.45231532 0.48549106 0.54176643]\n",
      " [0.54072969 0.57351492 0.48441058]\n",
      " [0.46770251 0.35780916 0.55088834]]\n",
      "-0.010619022696480539 \n",
      " 1.5767185805485107 \n",
      " 0.35780916440572574 \n",
      " 0.5735149194288928 \n",
      " 1.4966676829636163 \n",
      " (array([ 1.48048768, -0.04928962,  0.14552052]), array([[ 0.57394183,  0.82285471, -0.01693581],\n",
      "       [ 0.62486459, -0.40215277, -0.73983458],\n",
      "       [ 0.52927782, -0.40147636,  0.67257563]])) \n",
      " [[-13.43025078   6.93118146   7.11309541]\n",
      " [  6.71640305   0.39648486  -6.95382868]\n",
      " [  7.03985017  -6.14207381   0.2928562 ]]\n"
     ]
    }
   ],
   "source": [
    "def get_stats(X):\n",
    "    opr = np.linalg.det(X)\n",
    "    sled = np.trace(X)\n",
    "    minEl = np.min(X)\n",
    "    maxEl = np.max(X)\n",
    "    norm = np.linalg.norm(X)\n",
    "    eig = np.linalg.eig(X)\n",
    "    inv = np.linalg.inv(X)\n",
    "    print(opr, '\\n', sled, '\\n',  minEl, '\\n',  maxEl, '\\n',  norm, '\\n',  eig, '\\n',  inv)\n",
    "    \n",
    "m, s = 0.5, 0.1\n",
    "newArray=np.random.normal(m, s, (3, 3))\n",
    "print(newArray)\n",
    "get_stats(newArray);"
   ]
  },
  {
   "cell_type": "markdown",
   "metadata": {},
   "source": [
    "Повторите 100 раз следующий эксперимент: сгенерируйте две матрицы размера 10×10 из стандартного нормального распределения, перемножьте их (как матрицы) и найдите максимальный элемент. Какое среднее значение по экспериментам у максимальных элементов? 95-процентная квантиль?"
   ]
  },
  {
   "cell_type": "code",
   "execution_count": 49,
   "metadata": {},
   "outputs": [
    {
     "name": "stdout",
     "output_type": "stream",
     "text": [
      "8.851031262731146\n",
      "12.35378274781151\n"
     ]
    }
   ],
   "source": [
    "a = np.zeros(100)\n",
    "\n",
    "for exp_num in range(100):\n",
    "    X1 = np.random.normal(0, 1, (10, 10))\n",
    "    X2 = np.random.normal(0, 1, (10, 10))\n",
    "    Y = X1.dot(X2)\n",
    "    a[exp_num] = np.max(Y)\n",
    "\n",
    "print(np.mean(a))\n",
    "print(np.percentile(a, 95))"
   ]
  },
  {
   "cell_type": "markdown",
   "metadata": {},
   "source": [
    "### Pandas\n",
    "\n",
    "![](https://metrouk2.files.wordpress.com/2015/10/panda.jpg)\n",
    "\n",
    "#### Ответьте на вопросы о данных по авиарейсам в США за январь-апрель 2008 года.\n",
    "\n",
    "[Данные](https://www.dropbox.com/s/dvfitn93obn0rql/2008.csv?dl=0) и их [описание](http://stat-computing.org/dataexpo/2009/the-data.html)"
   ]
  },
  {
   "cell_type": "code",
   "execution_count": null,
   "metadata": {
    "collapsed": true
   },
   "outputs": [],
   "source": [
    "import pandas as pd\n",
    "%matplotlib inline"
   ]
  },
  {
   "cell_type": "markdown",
   "metadata": {},
   "source": [
    "Какая из причин отмены рейса (`CancellationCode`) была самой частой? (расшифровки кодов можно найти в описании данных)"
   ]
  },
  {
   "cell_type": "code",
   "execution_count": 78,
   "metadata": {},
   "outputs": [
    {
     "data": {
      "text/html": [
       "<div>\n",
       "<style scoped>\n",
       "    .dataframe tbody tr th:only-of-type {\n",
       "        vertical-align: middle;\n",
       "    }\n",
       "\n",
       "    .dataframe tbody tr th {\n",
       "        vertical-align: top;\n",
       "    }\n",
       "\n",
       "    .dataframe thead th {\n",
       "        text-align: right;\n",
       "    }\n",
       "</style>\n",
       "<table border=\"1\" class=\"dataframe\">\n",
       "  <thead>\n",
       "    <tr style=\"text-align: right;\">\n",
       "      <th></th>\n",
       "      <th>Cancelled</th>\n",
       "    </tr>\n",
       "    <tr>\n",
       "      <th>CancellationCode</th>\n",
       "      <th></th>\n",
       "    </tr>\n",
       "  </thead>\n",
       "  <tbody>\n",
       "    <tr>\n",
       "      <th>A</th>\n",
       "      <td>563</td>\n",
       "    </tr>\n",
       "    <tr>\n",
       "      <th>B</th>\n",
       "      <td>549</td>\n",
       "    </tr>\n",
       "    <tr>\n",
       "      <th>C</th>\n",
       "      <td>299</td>\n",
       "    </tr>\n",
       "  </tbody>\n",
       "</table>\n",
       "</div>"
      ],
      "text/plain": [
       "                  Cancelled\n",
       "CancellationCode           \n",
       "A                       563\n",
       "B                       549\n",
       "C                       299"
      ]
     },
     "execution_count": 78,
     "metadata": {},
     "output_type": "execute_result"
    }
   ],
   "source": [
    "dataframe = pd.read_csv(\"2008.csv\")\n",
    "cancel = dataframe[['CancellationCode', 'Cancelled']]\n",
    "cancel[cancel.Cancelled == 1].groupby('CancellationCode').count()"
   ]
  },
  {
   "cell_type": "markdown",
   "metadata": {},
   "source": [
    " Найдите среднее, минимальное и максимальное расстояние, пройденное самолетом."
   ]
  },
  {
   "cell_type": "code",
   "execution_count": 8,
   "metadata": {},
   "outputs": [
    {
     "name": "stdout",
     "output_type": "stream",
     "text": [
      "Distance    4962\n",
      "dtype: int64\n",
      "Distance    31\n",
      "dtype: int64\n",
      "Distance    724.508257\n",
      "dtype: float64\n"
     ]
    }
   ],
   "source": [
    "dataframe = pd.read_csv(\"2008.csv\")\n",
    "maxDistance = dataframe[['Distance']].max()\n",
    "minDistance = dataframe[['Distance']].min()\n",
    "avgDistance = dataframe[['Distance']].mean()\n",
    "\n",
    "print(maxDistance)\n",
    "print(minDistance)\n",
    "print(avgDistance)"
   ]
  },
  {
   "cell_type": "markdown",
   "metadata": {},
   "source": [
    " Не выглядит ли подозрительным минимальное пройденное расстояние? В какие дни и на каких рейсах оно было? Какое расстояние было пройдено этими же рейсами в другие дни?"
   ]
  },
  {
   "cell_type": "code",
   "execution_count": 79,
   "metadata": {},
   "outputs": [
    {
     "name": "stdout",
     "output_type": "stream",
     "text": [
      "       Year  Month  DayofMonth  DayOfWeek  FlightNum\n",
      "1116   2008     12          30          2         65\n",
      "6958   2008     12          26          5         65\n",
      "17349  2008      8          18          1         64\n",
      "27534  2008      3          11          2         64\n",
      "46082  2008      8           9          6         65\n",
      "48112  2008      2          28          4         64\n",
      "     Year_y  Month_y  DayofMonth_y  DayOfWeek_y  FlightNum  Distance\n",
      "0      2008       12            30            2         65        31\n",
      "1      2008        7            10            4         65       680\n",
      "2      2008       10            18            6         65        82\n",
      "3      2008       12            26            5         65        31\n",
      "4      2008        7            24            4         65       571\n",
      "..      ...      ...           ...          ...        ...       ...\n",
      "229    2008        1            16            3         64       571\n",
      "230    2008        9            14            7         64       680\n",
      "231    2008        1            22            2         64      1747\n",
      "232    2008        5             3            6         64       414\n",
      "233    2008        3            22            6         64       533\n",
      "\n",
      "[234 rows x 6 columns]\n"
     ]
    }
   ],
   "source": [
    "dataframe = pd.read_csv(\"2008.csv\")\n",
    "minDistance = dataframe[['Distance']].min()\n",
    "dist = dataframe[dataframe.Distance == int(minDistance)][['Year','Month','DayofMonth', 'DayOfWeek', 'FlightNum']]\n",
    "flight = distanceFrame.merge(dataframe, on=[\"FlightNum\"])[['Year_y','Month_y','DayofMonth_y', 'DayOfWeek_y', 'FlightNum', 'Distance']]\n",
    "\n",
    "print(dist)\n",
    "print(flight)\n"
   ]
  },
  {
   "cell_type": "markdown",
   "metadata": {},
   "source": [
    "Из какого аэропорта было произведено больше всего вылетов? В каком городе он находится?"
   ]
  },
  {
   "cell_type": "code",
   "execution_count": 32,
   "metadata": {},
   "outputs": [
    {
     "data": {
      "text/html": [
       "<div>\n",
       "<style scoped>\n",
       "    .dataframe tbody tr th:only-of-type {\n",
       "        vertical-align: middle;\n",
       "    }\n",
       "\n",
       "    .dataframe tbody tr th {\n",
       "        vertical-align: top;\n",
       "    }\n",
       "\n",
       "    .dataframe thead th {\n",
       "        text-align: right;\n",
       "    }\n",
       "</style>\n",
       "<table border=\"1\" class=\"dataframe\">\n",
       "  <thead>\n",
       "    <tr style=\"text-align: right;\">\n",
       "      <th></th>\n",
       "      <th>iata</th>\n",
       "      <th>airport</th>\n",
       "      <th>city</th>\n",
       "      <th>state</th>\n",
       "      <th>country</th>\n",
       "      <th>lat</th>\n",
       "      <th>long</th>\n",
       "    </tr>\n",
       "  </thead>\n",
       "  <tbody>\n",
       "    <tr>\n",
       "      <th>880</th>\n",
       "      <td>ATL</td>\n",
       "      <td>William B Hartsfield-Atlanta Intl</td>\n",
       "      <td>Atlanta</td>\n",
       "      <td>GA</td>\n",
       "      <td>USA</td>\n",
       "      <td>33.640444</td>\n",
       "      <td>-84.426944</td>\n",
       "    </tr>\n",
       "  </tbody>\n",
       "</table>\n",
       "</div>"
      ],
      "text/plain": [
       "    iata                            airport     city state country        lat  \\\n",
       "880  ATL  William B Hartsfield-Atlanta Intl  Atlanta    GA     USA  33.640444   \n",
       "\n",
       "          long  \n",
       "880 -84.426944  "
      ]
     },
     "execution_count": 32,
     "metadata": {},
     "output_type": "execute_result"
    }
   ],
   "source": [
    "dataframe = pd.read_csv(\"2008.csv\")\n",
    "airport = pd.read_csv(\"airports.csv\")\n",
    "dataframe.groupby('Origin').count()[['Year']].sort_values(by=['Year'], ascending=False)\n",
    "airport[airport.iata == 'ATL']"
   ]
  },
  {
   "cell_type": "markdown",
   "metadata": {},
   "source": [
    "Найдите для каждого аэропорта среднее время полета (`AirTime`) по всем вылетевшим из него рейсам. Какой аэропорт имеет наибольшее значение этого показателя?"
   ]
  },
  {
   "cell_type": "code",
   "execution_count": 20,
   "metadata": {},
   "outputs": [
    {
     "data": {
      "text/html": [
       "<div>\n",
       "<style scoped>\n",
       "    .dataframe tbody tr th:only-of-type {\n",
       "        vertical-align: middle;\n",
       "    }\n",
       "\n",
       "    .dataframe tbody tr th {\n",
       "        vertical-align: top;\n",
       "    }\n",
       "\n",
       "    .dataframe thead th {\n",
       "        text-align: right;\n",
       "    }\n",
       "</style>\n",
       "<table border=\"1\" class=\"dataframe\">\n",
       "  <thead>\n",
       "    <tr style=\"text-align: right;\">\n",
       "      <th></th>\n",
       "      <th>AirTime</th>\n",
       "    </tr>\n",
       "    <tr>\n",
       "      <th>Origin</th>\n",
       "      <th></th>\n",
       "    </tr>\n",
       "  </thead>\n",
       "  <tbody>\n",
       "    <tr>\n",
       "      <th>SJU</th>\n",
       "      <td>205.200000</td>\n",
       "    </tr>\n",
       "    <tr>\n",
       "      <th>BQN</th>\n",
       "      <td>193.954545</td>\n",
       "    </tr>\n",
       "    <tr>\n",
       "      <th>PSE</th>\n",
       "      <td>191.875000</td>\n",
       "    </tr>\n",
       "    <tr>\n",
       "      <th>STT</th>\n",
       "      <td>185.029412</td>\n",
       "    </tr>\n",
       "    <tr>\n",
       "      <th>ANC</th>\n",
       "      <td>165.415094</td>\n",
       "    </tr>\n",
       "    <tr>\n",
       "      <th>...</th>\n",
       "      <td>...</td>\n",
       "    </tr>\n",
       "    <tr>\n",
       "      <th>PSG</th>\n",
       "      <td>20.250000</td>\n",
       "    </tr>\n",
       "    <tr>\n",
       "      <th>OXR</th>\n",
       "      <td>19.666667</td>\n",
       "    </tr>\n",
       "    <tr>\n",
       "      <th>WRG</th>\n",
       "      <td>18.000000</td>\n",
       "    </tr>\n",
       "    <tr>\n",
       "      <th>GST</th>\n",
       "      <td>13.000000</td>\n",
       "    </tr>\n",
       "    <tr>\n",
       "      <th>DLG</th>\n",
       "      <td>NaN</td>\n",
       "    </tr>\n",
       "  </tbody>\n",
       "</table>\n",
       "<p>297 rows × 1 columns</p>\n",
       "</div>"
      ],
      "text/plain": [
       "           AirTime\n",
       "Origin            \n",
       "SJU     205.200000\n",
       "BQN     193.954545\n",
       "PSE     191.875000\n",
       "STT     185.029412\n",
       "ANC     165.415094\n",
       "...            ...\n",
       "PSG      20.250000\n",
       "OXR      19.666667\n",
       "WRG      18.000000\n",
       "GST      13.000000\n",
       "DLG            NaN\n",
       "\n",
       "[297 rows x 1 columns]"
      ]
     },
     "execution_count": 20,
     "metadata": {},
     "output_type": "execute_result"
    }
   ],
   "source": [
    "dataframe = pd.read_csv(\"2008.csv\")\n",
    "dataframe[['Origin','AirTime']].groupby('Origin').mean().sort_values(by=['AirTime'], ascending=False)"
   ]
  },
  {
   "cell_type": "markdown",
   "metadata": {},
   "source": [
    "Найдите аэропорт, у которого наибольшая доля задержанных (`DepDelay > 0`) рейсов. Исключите при этом из рассмотрения аэропорты, из которых было отправлено меньше 1000 рейсов (используйте функцию `filter` после `groupby`)."
   ]
  },
  {
   "cell_type": "code",
   "execution_count": 76,
   "metadata": {},
   "outputs": [
    {
     "name": "stdout",
     "output_type": "stream",
     "text": [
      "     Origin  DepDelay\n",
      "3635    MCO     750.0\n"
     ]
    }
   ],
   "source": [
    "df = pd.read_csv('2008.csv');\n",
    "print(df[['Origin','DepDelay']].groupby(['Origin']).filter(lambda x: x['Origin'].count()>1000).sort_values(by=['DepDelay'], ascending=False).head(1))\n"
   ]
  },
  {
   "cell_type": "markdown",
   "metadata": {},
   "source": [
    "## Линейная регрессия\n",
    "\n",
    "В этой части мы разберемся с линейной регрессией, способами её обучения и измерением качества ее прогнозов. \n",
    "\n",
    "Будем рассматривать датасет из предыдущей части задания для предсказания времени задержки отправления рейса в минутах (DepDelay). Отметим, что под задержкой подразумевается не только опоздание рейса относительно планируемого времени вылета, но и отправление до планируемого времени.\n",
    "\n",
    "### Подготовка данных\n",
    "\n",
    "**12. (0.5 балла)** Считайте выборку из файла при помощи функции pd.read_csv и ответьте на следующие вопросы:\n",
    "   - Имеются ли в данных пропущенные значения?\n",
    "   - Сколько всего пропущенных элементов в таблице \"объект-признак\"?\n",
    "   - Сколько объектов имеют хотя бы один пропуск?\n",
    "   - Сколько признаков имеют хотя бы одно пропущенное значение?"
   ]
  },
  {
   "cell_type": "code",
   "execution_count": 265,
   "metadata": {
    "scrolled": false
   },
   "outputs": [
    {
     "name": "stdout",
     "output_type": "stream",
     "text": [
      "Имеются ли в данных пропущенные значения? True\n",
      "Сколько всего пропущенных элементов в таблице \"объект-признак\"? 355215\n",
      "Сколько объектов имеют хотя бы один пропуск? 70000\n",
      "Сколько признаков имеют хотя бы одно пропущенное значение? 16\n"
     ]
    }
   ],
   "source": [
    "data = pd.read_csv('2008.csv')\n",
    "print(\"Имеются ли в данных пропущенные значения?\", data.isnull().values.any())\n",
    "print(\"Сколько всего пропущенных элементов в таблице \\\"объект-признак\\\"?\", data.isnull().values.sum())\n",
    "print(\"Сколько объектов имеют хотя бы один пропуск?\", np.count_nonzero(np.array(data.isnull().values.sum(axis=1))))\n",
    "print(\"Сколько признаков имеют хотя бы одно пропущенное значение?\", np.count_nonzero(np.array(data.isnull().values.sum(axis=0))))"
   ]
  },
  {
   "cell_type": "markdown",
   "metadata": {},
   "source": [
    "Как вы понимаете, также не имеет смысла рассматривать при решении поставленной задачи объекты с пропущенным значением целевой переменной. В связи с этим ответьте на следующие вопросы и выполните соответствующие действия:\n",
    "- Имеются ли пропущенные значения в целевой переменной?\n",
    "- Проанализируйте объекты с пропущенными значениями целевой переменной. Чем вызвано это явление? Что их объединяет? Можно ли в связи с этим, на ваш взгляд, исключить какие-то признаки из рассмотрения? Обоснуйте свою точку зрения.\n",
    "\n",
    "Исключите из выборки объекты **с пропущенным значением целевой переменной и со значением целевой переменной, равным 0**, а также при необходимости исключите признаки в соответствии с вашим ответом на последний вопрос из списка и выделите целевую переменную в отдельный вектор, исключив её из матрицы \"объект-признак\"."
   ]
  },
  {
   "cell_type": "code",
   "execution_count": 266,
   "metadata": {},
   "outputs": [
    {
     "name": "stdout",
     "output_type": "stream",
     "text": [
      "Имеются ли пропущенные значения в целевой переменной? 1399\n"
     ]
    }
   ],
   "source": [
    "print(\"Имеются ли пропущенные значения в целевой переменной?\", data['DepDelay'].isnull().sum())"
   ]
  },
  {
   "cell_type": "markdown",
   "metadata": {},
   "source": [
    "Исключаем из выборки объекты без целевой переменной"
   ]
  },
  {
   "cell_type": "code",
   "execution_count": 267,
   "metadata": {},
   "outputs": [
    {
     "name": "stdout",
     "output_type": "stream",
     "text": [
      "       Year  Month  DayofMonth  DayOfWeek  DepTime  CRSDepTime  ArrTime  ...  \\\n",
      "0      2008      6          18          3   2111.0        2055   2308.0  ...   \n",
      "1      2008      6           4          3   1426.0        1410   1730.0  ...   \n",
      "2      2008      8           3          7   1143.0        1145   1501.0  ...   \n",
      "3      2008      1          23          3   1141.0        1144   1323.0  ...   \n",
      "4      2008      5           4          7    815.0         820   1243.0  ...   \n",
      "...     ...    ...         ...        ...      ...         ...      ...  ...   \n",
      "69994  2008      1          26          6    920.0         925   1110.0  ...   \n",
      "69995  2008      5          12          1   1829.0        1840   2137.0  ...   \n",
      "69996  2008      5          11          7   1149.0        1125   1336.0  ...   \n",
      "69998  2008      2          18          1   1906.0        1900   2200.0  ...   \n",
      "69999  2008     12           6          6    859.0         900    959.0  ...   \n",
      "\n",
      "       CancellationCode Diverted  CarrierDelay WeatherDelay  NASDelay  \\\n",
      "0                   NaN        0           NaN          NaN       NaN   \n",
      "1                   NaN        0           NaN          NaN       NaN   \n",
      "2                   NaN        0           NaN          NaN       NaN   \n",
      "3                   NaN        0           NaN          NaN       NaN   \n",
      "4                   NaN        0           NaN          NaN       NaN   \n",
      "...                 ...      ...           ...          ...       ...   \n",
      "69994               NaN        0           NaN          NaN       NaN   \n",
      "69995               NaN        0           NaN          NaN       NaN   \n",
      "69996               NaN        0           0.0          0.0       0.0   \n",
      "69998               NaN        0           0.0          0.0      15.0   \n",
      "69999               NaN        0           NaN          NaN       NaN   \n",
      "\n",
      "       SecurityDelay  LateAircraftDelay  \n",
      "0                NaN                NaN  \n",
      "1                NaN                NaN  \n",
      "2                NaN                NaN  \n",
      "3                NaN                NaN  \n",
      "4                NaN                NaN  \n",
      "...              ...                ...  \n",
      "69994            NaN                NaN  \n",
      "69995            NaN                NaN  \n",
      "69996            0.0               22.0  \n",
      "69998            0.0                6.0  \n",
      "69999            NaN                NaN  \n",
      "\n",
      "[63404 rows x 29 columns]\n"
     ]
    }
   ],
   "source": [
    "data=data[(data.DepDelay!=0) & (data.DepDelay.notnull())]\n",
    "print(data)"
   ]
  },
  {
   "cell_type": "markdown",
   "metadata": {},
   "source": [
    "Исключаем CancellationCode и Cancelled"
   ]
  },
  {
   "cell_type": "code",
   "execution_count": 268,
   "metadata": {},
   "outputs": [
    {
     "data": {
      "text/plain": [
       "(63404, 27)"
      ]
     },
     "execution_count": 268,
     "metadata": {},
     "output_type": "execute_result"
    }
   ],
   "source": [
    "data.drop(['CancellationCode','Cancelled'], axis = 1, inplace = True)\n",
    "data.shape"
   ]
  },
  {
   "cell_type": "markdown",
   "metadata": {},
   "source": [
    "Выделяем целевую переменную, исключаем её из матрицы \"объект-признак\""
   ]
  },
  {
   "cell_type": "code",
   "execution_count": 269,
   "metadata": {},
   "outputs": [],
   "source": [
    "vect = data['DepDelay']\n",
    "data.drop(['DepDelay'], axis = 1, inplace = True)"
   ]
  },
  {
   "cell_type": "markdown",
   "metadata": {},
   "source": [
    "**13. (0.5 балла)** Обратите внимание, что признаки DepTime, CRSDepTime, ArrTime, CRSArrTime приведены в формате hhmm, в связи с чем будет не вполне корректно рассматривать их как вещественные.\n",
    "\n",
    "Преобразуйте каждый признак FeatureName из указанных в пару новых признаков FeatureName\\_Hour, FeatureName\\_Minute, разделив каждое из значений на часы и минуты. Не забудьте при этом исключить исходный признак из выборки. В случае, если значение признака отсутствует, значения двух новых признаков, его заменяющих, также должны отсутствовать. \n",
    "\n",
    "Например, признак DepTime необходимо заменить на пару признаков DepTime_Hour, DepTime_Minute. При этом, например, значение 155 исходного признака будет преобразовано в значения 1 и 55 признаков DepTime_Hour, DepTime_Minute соответственно."
   ]
  },
  {
   "cell_type": "code",
   "execution_count": 270,
   "metadata": {},
   "outputs": [],
   "source": [
    "for col in ['DepTime', 'CRSDepTime', 'ArrTime', 'CRSArrTime']:\n",
    "    data[col+'_Hour'] = data[col]//100\n",
    "    data[col+'_Minute'] = data[col]%100\n",
    "    data.drop([col], axis=1, inplace=True)"
   ]
  },
  {
   "cell_type": "code",
   "execution_count": 271,
   "metadata": {},
   "outputs": [
    {
     "data": {
      "text/plain": [
       "(63404, 30)"
      ]
     },
     "execution_count": 271,
     "metadata": {},
     "output_type": "execute_result"
    }
   ],
   "source": [
    "data.shape"
   ]
  },
  {
   "cell_type": "markdown",
   "metadata": {},
   "source": [
    "**14. (0.5 балла)** Некоторые из признаков, отличных от целевой переменной, могут оказывать чересчур значимое влияние на прогноз, поскольку по своему смыслу содержат большую долю информации о значении целевой переменной. Изучите описание датасета и исключите признаки, сильно коррелирующие с ответами. Ваш выбор признаков для исключения из выборки обоснуйте. Кроме того, исключите признаки TailNum и Year."
   ]
  },
  {
   "cell_type": "code",
   "execution_count": 290,
   "metadata": {},
   "outputs": [
    {
     "name": "stdout",
     "output_type": "stream",
     "text": [
      "                   Year     Month  DayofMonth  DayOfWeek   DepTime  \\\n",
      "Year                NaN       NaN         NaN        NaN       NaN   \n",
      "Month               NaN  1.000000   -0.002155  -0.010587 -0.007985   \n",
      "DayofMonth          NaN -0.002155    1.000000   0.014100  0.001977   \n",
      "DayOfWeek           NaN -0.010587    0.014100   1.000000  0.005246   \n",
      "DepTime             NaN -0.007985    0.001977   0.005246  1.000000   \n",
      "CRSDepTime          NaN -0.005269    0.002034   0.005131  0.964394   \n",
      "ArrTime             NaN -0.002270   -0.001386   0.005298  0.715755   \n",
      "CRSArrTime          NaN  0.002922    0.000796   0.005630  0.791983   \n",
      "FlightNum           NaN  0.001935    0.008456  -0.006384 -0.005016   \n",
      "ActualElapsedTime   NaN -0.012743   -0.006916   0.012766 -0.014895   \n",
      "CRSElapsedTime      NaN -0.001948   -0.005139   0.015049 -0.012023   \n",
      "AirTime             NaN -0.011421   -0.006675   0.013594 -0.020915   \n",
      "ArrDelay            NaN -0.040420    0.006154   0.002958  0.176033   \n",
      "DepDelay            NaN -0.027598    0.008002   0.008023  0.198135   \n",
      "Distance            NaN -0.002180   -0.005209   0.016261 -0.014157   \n",
      "TaxiIn              NaN  0.008309   -0.002709   0.002378 -0.046147   \n",
      "TaxiOut             NaN -0.014065   -0.002032  -0.003390  0.053072   \n",
      "Cancelled           NaN -0.028738   -0.003188   0.004459  0.005210   \n",
      "Diverted            NaN  0.001267    0.002071   0.005317  0.005281   \n",
      "CarrierDelay        NaN -0.008054    0.007734   0.014316 -0.011016   \n",
      "WeatherDelay        NaN  0.017517    0.002301  -0.012258  0.023404   \n",
      "NASDelay            NaN  0.001072    0.007868   0.000360 -0.008216   \n",
      "SecurityDelay       NaN  0.008527   -0.007749   0.004920 -0.007160   \n",
      "LateAircraftDelay   NaN  0.017205    0.008309   0.006862  0.208907   \n",
      "\n",
      "                   CRSDepTime   ArrTime  ...  Cancelled  Diverted  \\\n",
      "Year                      NaN       NaN  ...        NaN       NaN   \n",
      "Month               -0.005269 -0.002270  ...  -0.028738  0.001267   \n",
      "DayofMonth           0.002034 -0.001386  ...  -0.003188  0.002071   \n",
      "DayOfWeek            0.005131  0.005298  ...   0.004459  0.005317   \n",
      "DepTime              0.964394  0.715755  ...   0.005210  0.005281   \n",
      "CRSDepTime           1.000000  0.696378  ...   0.017614  0.002916   \n",
      "ArrTime              0.696378  1.000000  ...        NaN -0.010907   \n",
      "CRSArrTime           0.791732  0.861166  ...   0.014981  0.011408   \n",
      "FlightNum           -0.009259 -0.018949  ...   0.043158 -0.000193   \n",
      "ActualElapsedTime   -0.014146  0.036765  ...        NaN       NaN   \n",
      "CRSElapsedTime      -0.010475  0.037869  ...  -0.028621  0.020570   \n",
      "AirTime             -0.018135  0.029938  ...        NaN       NaN   \n",
      "ArrDelay             0.116802  0.062137  ...        NaN       NaN   \n",
      "DepDelay             0.137659  0.069991  ...  -0.000808  0.024980   \n",
      "Distance            -0.010933  0.028419  ...  -0.035575  0.017225   \n",
      "TaxiIn              -0.052134  0.000669  ...        NaN -0.001539   \n",
      "TaxiOut              0.043529  0.048308  ...   0.000578  0.020535   \n",
      "Cancelled            0.017614       NaN  ...   1.000000 -0.007098   \n",
      "Diverted             0.002916 -0.010907  ...  -0.007098  1.000000   \n",
      "CarrierDelay        -0.069214 -0.070019  ...        NaN       NaN   \n",
      "WeatherDelay         0.008835 -0.041740  ...        NaN       NaN   \n",
      "NASDelay            -0.042982  0.021025  ...        NaN       NaN   \n",
      "SecurityDelay       -0.012129 -0.002320  ...        NaN       NaN   \n",
      "LateAircraftDelay    0.196752 -0.000418  ...        NaN       NaN   \n",
      "\n",
      "                   CarrierDelay  WeatherDelay  NASDelay  SecurityDelay  \\\n",
      "Year                        NaN           NaN       NaN            NaN   \n",
      "Month                 -0.008054      0.017517  0.001072       0.008527   \n",
      "DayofMonth             0.007734      0.002301  0.007868      -0.007749   \n",
      "DayOfWeek              0.014316     -0.012258  0.000360       0.004920   \n",
      "DepTime               -0.011016      0.023404 -0.008216      -0.007160   \n",
      "CRSDepTime            -0.069214      0.008835 -0.042982      -0.012129   \n",
      "ArrTime               -0.070019     -0.041740  0.021025      -0.002320   \n",
      "CRSArrTime            -0.063198      0.016987 -0.006913      -0.013098   \n",
      "FlightNum              0.072497      0.057978  0.014641       0.008984   \n",
      "ActualElapsedTime     -0.043223     -0.013298  0.185902       0.001802   \n",
      "CRSElapsedTime        -0.005829     -0.019028  0.043760       0.003718   \n",
      "AirTime               -0.020210     -0.024834  0.062948       0.004247   \n",
      "ArrDelay               0.503905      0.255609  0.366990       0.009468   \n",
      "DepDelay               0.535580      0.240096  0.162387       0.011400   \n",
      "Distance              -0.001778     -0.024581  0.014666       0.006676   \n",
      "TaxiIn                -0.060408      0.003304  0.221573       0.000108   \n",
      "TaxiOut               -0.076988      0.040936  0.439164      -0.009203   \n",
      "Cancelled                   NaN           NaN       NaN            NaN   \n",
      "Diverted                    NaN           NaN       NaN            NaN   \n",
      "CarrierDelay           1.000000     -0.037471 -0.143637      -0.012922   \n",
      "WeatherDelay          -0.037471      1.000000 -0.016744      -0.006121   \n",
      "NASDelay              -0.143637     -0.016744  1.000000      -0.012921   \n",
      "SecurityDelay         -0.012922     -0.006121 -0.012921       1.000000   \n",
      "LateAircraftDelay     -0.133283     -0.036806 -0.145523      -0.013176   \n",
      "\n",
      "                   LateAircraftDelay  \n",
      "Year                             NaN  \n",
      "Month                       0.017205  \n",
      "DayofMonth                  0.008309  \n",
      "DayOfWeek                   0.006862  \n",
      "DepTime                     0.208907  \n",
      "CRSDepTime                  0.196752  \n",
      "ArrTime                    -0.000418  \n",
      "CRSArrTime                  0.152687  \n",
      "FlightNum                  -0.025478  \n",
      "ActualElapsedTime          -0.089252  \n",
      "CRSElapsedTime             -0.043112  \n",
      "AirTime                    -0.063219  \n",
      "ArrDelay                    0.512610  \n",
      "DepDelay                    0.558168  \n",
      "Distance                   -0.038822  \n",
      "TaxiIn                     -0.049901  \n",
      "TaxiOut                    -0.102898  \n",
      "Cancelled                        NaN  \n",
      "Diverted                         NaN  \n",
      "CarrierDelay               -0.133283  \n",
      "WeatherDelay               -0.036806  \n",
      "NASDelay                   -0.145523  \n",
      "SecurityDelay              -0.013176  \n",
      "LateAircraftDelay           1.000000  \n",
      "\n",
      "[24 rows x 24 columns]\n"
     ]
    }
   ],
   "source": [
    "df111 = pd.read_csv('2008.csv')\n",
    "corr = df111.corr() \n",
    "print(corr)"
   ]
  },
  {
   "cell_type": "code",
   "execution_count": 273,
   "metadata": {
    "scrolled": true
   },
   "outputs": [
    {
     "data": {
      "image/png": "[encoded data removed]",
      "text/plain": [
       "<Figure size 1080x1080 with 2 Axes>"
      ]
     },
     "metadata": {
      "needs_background": "light"
     },
     "output_type": "display_data"
    }
   ],
   "source": [
    "import seaborn as sns\n",
    "import matplotlib.pyplot as plt\n",
    "\n",
    "f, ax = plt.subplots(figsize =(15,15))\n",
    "heatmap = sns.heatmap(corr, annot=True, fmt=\".2f\", square=True, linewidths=.4,  ax=ax)"
   ]
  },
  {
   "cell_type": "code",
   "execution_count": 274,
   "metadata": {},
   "outputs": [
    {
     "data": {
      "text/plain": [
       "ArrDelay             0.930046\n",
       "DepDelay             1.000000\n",
       "CarrierDelay         0.535580\n",
       "LateAircraftDelay    0.558168\n",
       "Name: DepDelay, dtype: float64"
      ]
     },
     "execution_count": 274,
     "metadata": {},
     "output_type": "execute_result"
    }
   ],
   "source": [
    "heatmap = corr.loc['DepDelay',:]\n",
    "heatmap[heatmap >= 0.5]"
   ]
  },
  {
   "cell_type": "code",
   "execution_count": 275,
   "metadata": {},
   "outputs": [
    {
     "data": {
      "text/plain": [
       "(63404, 25)"
      ]
     },
     "execution_count": 275,
     "metadata": {},
     "output_type": "execute_result"
    }
   ],
   "source": [
    "data.drop(['ArrDelay','CarrierDelay','LateAircraftDelay'], axis = 1, inplace = True)\n",
    "data.drop(['TailNum','Year'], axis = 1, inplace = True)\n",
    "data.shape"
   ]
  },
  {
   "cell_type": "code",
   "execution_count": null,
   "metadata": {},
   "outputs": [],
   "source": []
  },
  {
   "cell_type": "markdown",
   "metadata": {},
   "source": [
    "**15. (1 балл)** Приведем данные к виду, пригодному для обучения линейных моделей. Для этого вещественные признаки надо отмасштабировать, а категориальные — привести к числовому виду. Также надо устранить пропуски в данных."
   ]
  },
  {
   "cell_type": "markdown",
   "metadata": {},
   "source": [
    "В первую очередь поймем, зачем необходимо применять масштабирование. Следующие ячейки с кодом построят гистограммы для 3 вещественных признаков выборки."
   ]
  },
  {
   "cell_type": "code",
   "execution_count": 277,
   "metadata": {
    "scrolled": true
   },
   "outputs": [
    {
     "data": {
      "text/plain": [
       "<matplotlib.axes._subplots.AxesSubplot at 0x29c2b75dc88>"
      ]
     },
     "execution_count": 277,
     "metadata": {},
     "output_type": "execute_result"
    },
    {
     "data": {
      "image/png": "[encoded data removed]",
      "text/plain": [
       "<Figure size 432x288 with 1 Axes>"
      ]
     },
     "metadata": {
      "needs_background": "light"
     },
     "output_type": "display_data"
    }
   ],
   "source": [
    "data['DepTime_Hour'].hist(bins=20)"
   ]
  },
  {
   "cell_type": "code",
   "execution_count": 278,
   "metadata": {},
   "outputs": [
    {
     "data": {
      "text/plain": [
       "<matplotlib.axes._subplots.AxesSubplot at 0x29c22695208>"
      ]
     },
     "execution_count": 278,
     "metadata": {},
     "output_type": "execute_result"
    },
    {
     "data": {
      "image/png": "[encoded data removed]",
      "text/plain": [
       "<Figure size 432x288 with 1 Axes>"
      ]
     },
     "metadata": {
      "needs_background": "light"
     },
     "output_type": "display_data"
    }
   ],
   "source": [
    "data['TaxiIn'].hist(bins=20)"
   ]
  },
  {
   "cell_type": "code",
   "execution_count": 279,
   "metadata": {},
   "outputs": [
    {
     "data": {
      "text/plain": [
       "<matplotlib.axes._subplots.AxesSubplot at 0x29c231d6f28>"
      ]
     },
     "execution_count": 279,
     "metadata": {},
     "output_type": "execute_result"
    },
    {
     "data": {
      "image/png": "[encoded data removed]",
      "text/plain": [
       "<Figure size 432x288 with 1 Axes>"
      ]
     },
     "metadata": {
      "needs_background": "light"
     },
     "output_type": "display_data"
    }
   ],
   "source": [
    "data['FlightNum'].hist(bins=20)"
   ]
  },
  {
   "cell_type": "markdown",
   "metadata": {},
   "source": [
    "Какую проблему вы наблюдаете на этих графиках? Как масштабирование поможет её исправить?"
   ]
  },
  {
   "cell_type": "raw",
   "metadata": {},
   "source": [
    "Разные типы признаков, нельзя их правильно сравнивать друг с другом."
   ]
  },
  {
   "cell_type": "markdown",
   "metadata": {},
   "source": [
    "Некоторые из признаков в нашем датасете являются категориальными. Типичным подходом к работе с ними является бинарное, или [one-hot-кодирование](https://en.wikipedia.org/wiki/One-hot).\n",
    "\n",
    "Реализуйте функцию transform_data, которая принимает на вход DataFrame с признаками и выполняет следующие шаги:\n",
    "1. Замена пропущенных значений на нули для вещественных признаков и на строки 'nan' для категориальных.\n",
    "2. Масштабирование вещественных признаков с помощью [StandardScaler](http://scikit-learn.org/stable/modules/generated/sklearn.preprocessing.StandardScaler.html).\n",
    "3. One-hot-кодирование категориальных признаков с помощью [DictVectorizer](http://scikit-learn.org/stable/modules/generated/sklearn.feature_extraction.DictVectorizer.html) или функции [pd.get_dummies](http://pandas.pydata.org/pandas-docs/stable/generated/pandas.get_dummies.html).\n",
    "\n",
    "Метод должен возвращать преобразованный DataFrame, который должна состоять из масштабированных вещественных признаков и закодированных категориальных (исходные признаки должны быть исключены из выборки)."
   ]
  },
  {
   "cell_type": "code",
   "execution_count": 285,
   "metadata": {},
   "outputs": [],
   "source": [
    "\n",
    "from sklearn.preprocessing import StandardScaler\n",
    "import warnings\n",
    "warnings.filterwarnings('ignore')\n",
    "pd.set_option('display.max_columns', 15)\n",
    "\n",
    "\n",
    "def transform_data(data):\n",
    "    StSc = StandardScaler()\n",
    "    for col in data.columns:\n",
    "        if data[col].dtype.name == 'object':\n",
    "            data[col].fillna('nan', inplace = True)\n",
    "        else:\n",
    "            data[col].fillna(0, inplace = True)\n",
    "            data[col]= StSc.fit_transform(data[col].values.reshape(-1, 1)).flatten('F')\n",
    "    data = pd.get_dummies(data)\n",
    "    return data"
   ]
  },
  {
   "cell_type": "markdown",
   "metadata": {},
   "source": [
    "Примените функцию transform_data к данным. Сколько признаков получилось после преобразования?"
   ]
  },
  {
   "cell_type": "code",
   "execution_count": 286,
   "metadata": {},
   "outputs": [
    {
     "name": "stdout",
     "output_type": "stream",
     "text": [
      "После преобразования получилось  636  признака\n"
     ]
    }
   ],
   "source": [
    "transform_data=transform_data(data)\n",
    "transform_data.shape\n",
    "print('После преобразования получилось ', transform_data.shape[1], ' признака')"
   ]
  },
  {
   "cell_type": "markdown",
   "metadata": {},
   "source": [
    "**16. (0.5 балла)** Разбейте выборку и вектор целевой переменной на обучение и контроль в отношении 70/30 (для этого можно использовать, например, функцию [train_test_split](http://scikit-learn.org/stable/modules/generated/sklearn.cross_validation.train_test_split.html)). "
   ]
  },
  {
   "cell_type": "code",
   "execution_count": 288,
   "metadata": {},
   "outputs": [],
   "source": [
    "from sklearn.model_selection import train_test_split\n",
    "X_train, X_test, y_train, y_test = train_test_split(transform_data, vect, test_size=0.3, random_state=42)"
   ]
  },
  {
   "cell_type": "markdown",
   "metadata": {},
   "source": [
    "### Scikit-learn\n",
    "\n",
    "<img src = \"https://pp.vk.me/c4534/u35727827/93547647/x_d31c4463.jpg\">\n",
    "Теперь, когда мы привели данные к пригодному виду, попробуем решить задачу при помощи метода наименьших квадратов. Напомним, что данный метод заключается в оптимизации функционала $MSE$:\n",
    "\n",
    "$$MSE(X, y) = \\frac{1}{l} \\sum_{i=1}^l (<w, x_i> - y_i)^2 \\to \\min_{w},$$\n",
    "\n",
    "где $\\{ (x_i, y_i ) \\}_{i=1}^l$ — обучающая выборка, состоящая из $l$ пар объект-ответ.\n",
    "\n",
    "Заметим, что решение данной задачи уже реализовано в модуле sklearn в виде класса [LinearRegression](http://scikit-learn.org/stable/modules/generated/sklearn.linear_model.LinearRegression.html#sklearn.linear_model.LinearRegression).\n",
    "\n",
    "**17. (0.5 балла)** Обучите линейную регрессию на 1000 объектах из обучающей выборки и выведите значения $MSE$ и $R^2$ на этой подвыборке и контрольной выборке (итого 4 различных числа). Проинтерпретируйте полученный результат — насколько качественные прогнозы строит полученная модель? Какие проблемы наблюдаются в модели?\n",
    "\n",
    "**Подсказка**: изучите значения полученных коэффициентов $w$, сохраненных в атрибуте coef_ объекта LinearRegression."
   ]
  },
  {
   "cell_type": "code",
   "execution_count": null,
   "metadata": {
    "collapsed": true
   },
   "outputs": [],
   "source": [
    "# Your code here"
   ]
  },
  {
   "cell_type": "markdown",
   "metadata": {
    "collapsed": true
   },
   "source": [
    "Для решения описанных вами в предыдущем пункте проблем используем L1- или L2-регуляризацию, тем самым получив Lasso и Ridge регрессии соответственно и изменив оптимизационную задачу одним из следующих образов:\n",
    "$$MSE_{L1}(X, y) = \\frac{1}{l} \\sum_{i=1}^l (<w, x_i> - y_i)^2 + \\alpha ||w||_1 \\to \\min_{w},$$\n",
    "$$MSE_{L2}(X, y) = \\frac{1}{l} \\sum_{i=1}^l (<w, x_i> - y_i)^2 + \\alpha ||w||_2^2 \\to \\min_{w},$$\n",
    "\n",
    "где $\\alpha$ — коэффициент регуляризации. Один из способов его подбора заключается в переборе некоторого количества значений и оценке качества на кросс-валидации для каждого из них, после чего выбирается значение, для которого было получено наилучшее качество.\n",
    "\n",
    "**18. (0.5 балла)** Обучите линейные регрессии с L1- и L2-регуляризатором, подобрав лучшее значение параметра регуляризации из списка alpha_grid при помощи кросс-валидации c 5 фолдами на тех же 1000 объектах, что и в п.17. Выведите значения $MSE$ и $R^2$ на обучающей и контрольной выборках. Удалось ли решить указанные вами ранее проблемы?\n",
    "\n",
    "Для выполнения данного задания вам могут понадобиться реализованные в библиотеке объекты [LassoCV](http://scikit-learn.org/stable/modules/generated/sklearn.linear_model.LassoCV.html), [RidgeCV](http://scikit-learn.org/stable/modules/generated/sklearn.linear_model.RidgeCV.html) и [KFold](http://scikit-learn.org/stable/modules/generated/sklearn.cross_validation.KFold.html).\n"
   ]
  },
  {
   "cell_type": "code",
   "execution_count": null,
   "metadata": {},
   "outputs": [],
   "source": [
    "# Your code here"
   ]
  },
  {
   "cell_type": "markdown",
   "metadata": {},
   "source": [
    "### Градиентный спуск\n",
    "\n",
    "В предыдущем разделе мы использовали существующие реализации методов обучения линейной регрессии с регуляризацией и без. Тем не менее, подобные реализации, как правило, имеются лишь для ограниченного набора стандартных методов. В частности, при выходе функционала качества за пределы стандартного множества необходимо самостоятельно реализовывать составляющие процесса решения оптимизационной задачи. Именно этому и посвящен данный раздел задания.\n",
    "\n",
    "Пусть необходимо минимизировать следующий функционал (Mean Square Percentage Error — модифицированный [RMSPE](https://www.kaggle.com/c/rossmann-store-sales/details/evaluation)):\n",
    "$$MSPE(\\{x_i, y_i\\}_{i=1}^l, \\, w) = \\frac{1}{l}\\sum_{i=1}^l \\left( \\frac{y_i - \\langle w, x_i \\rangle }{y_i} \\right)^2,$$\n",
    "\n",
    "где $\\{x_i, y_i\\}_{i=1}^l$ — обучающая выборка, $w$ — вектор весов линейной модели. Будем также рассматривать функционал $MSPE$ с L2-регуляризацией:\n",
    "\n",
    "$$MSPE(\\{x_i, y_i\\}_{i=1}^l, \\, w) = \\frac{1}{l}\\sum_{i=1}^l \\left( \\frac{y_i - \\langle w, x_i \\rangle }{y_i} \\right)^2 + ||w||_2^2.$$\n",
    "\n",
    "**19. (0 баллов)** Добавьте к объектам обеих выборок из п. 16 единичный признак."
   ]
  },
  {
   "cell_type": "code",
   "execution_count": null,
   "metadata": {
    "collapsed": true
   },
   "outputs": [],
   "source": [
    "# Your code here"
   ]
  },
  {
   "cell_type": "markdown",
   "metadata": {},
   "source": [
    "**20. (1 балл)** Реализуйте функции, которые вычисляют:\n",
    " * прогнозы линейной модели;\n",
    " * функционал $MSPE$ и его градиент;\n",
    " * регуляризованный $MSPE$ и его градиент."
   ]
  },
  {
   "cell_type": "code",
   "execution_count": null,
   "metadata": {
    "collapsed": true
   },
   "outputs": [],
   "source": [
    "# возвращает вектор прогнозов линейной модели с вектором весов w для выборки X\n",
    "def make_pred(X, w):\n",
    "    pass"
   ]
  },
  {
   "cell_type": "code",
   "execution_count": null,
   "metadata": {
    "collapsed": true
   },
   "outputs": [],
   "source": [
    "# возвращает значение функционала MSPE для выборки (X, y) и вектора весов w\n",
    "def get_func(w, X, y):\n",
    "    pass"
   ]
  },
  {
   "cell_type": "code",
   "execution_count": null,
   "metadata": {
    "collapsed": true
   },
   "outputs": [],
   "source": [
    "# возвращает градиент функционала MSPE для выборки (X, y) и вектора весов w\n",
    "def get_grad(w, X, y):\n",
    "    pass"
   ]
  },
  {
   "cell_type": "code",
   "execution_count": null,
   "metadata": {
    "collapsed": true
   },
   "outputs": [],
   "source": [
    "# возвращает значение регуляризованного функционала MSPE для выборки (X, y) и вектора весов w\n",
    "def get_reg_func(w, X, y):\n",
    "    pass"
   ]
  },
  {
   "cell_type": "code",
   "execution_count": null,
   "metadata": {
    "collapsed": true
   },
   "outputs": [],
   "source": [
    "# возвращает градиент регуляризованного функционала MSPE для выборки (X, y) и вектора весов w\n",
    "def get_reg_grad(w, X, y):\n",
    "    pass"
   ]
  },
  {
   "cell_type": "markdown",
   "metadata": {},
   "source": [
    "**21. (1 балл)** Реализуйте метод градиентного спуска для описанных функционалов ($MSPE$ и его регуляризованный вариант). Функция должна принимать следующие параметры:\n",
    " - X — матрица \"объект-признак\";\n",
    " - y — вектор целевой переменной;\n",
    " - w0 — начальное значение вектора весов;\n",
    " - step_size — значение темпа обучения;\n",
    " - max_iter — максимальное число итераций;\n",
    " - eps — значение, используемое в критерии останова;\n",
    " - is_reg — бинарный параметр, принимает значение True в случае наличия регуляризации функционала, False — в противном случае.\n",
    " \n",
    "Процесс должен быть остановлен, если выполнено хотя бы одно из следующих условий:\n",
    " - было выполнено заданное количество итераций max_iter;\n",
    " - евклидова норма разности векторов $w$ на соседних итерациях стала меньше, чем eps.\n",
    "\n",
    "Функция должна возвращать полученный в результате оптимизации вектор $w$ и список значений функционала на каждой итерации."
   ]
  },
  {
   "cell_type": "code",
   "execution_count": null,
   "metadata": {
    "collapsed": true
   },
   "outputs": [],
   "source": [
    "def grad_descent(X, y, step_size, max_iter, eps, is_reg):\n",
    "    # Your code here"
   ]
  },
  {
   "cell_type": "markdown",
   "metadata": {},
   "source": [
    "Обучите линейную регрессию с функционалом $MSPE$ на обучающей выборке при помощи метода градиентного спуска и изобразите кривые зависимости значения функционала от номера итерации для различных:\n",
    " * значений размера шага из набора [0.001, 1, 10];\n",
    " * способов начальной инициализации вектора весов (нули, случайные веса).\n",
    "\n",
    "Проанализируйте полученные результаты — влияют ли данные параметры на скорость сходимости и итоговое качество? Если да, то как?"
   ]
  },
  {
   "cell_type": "code",
   "execution_count": null,
   "metadata": {
    "collapsed": true
   },
   "outputs": [],
   "source": [
    "# Your code here"
   ]
  },
  {
   "cell_type": "markdown",
   "metadata": {},
   "source": [
    "**22. (0.5 балла)** Обучите линейную регрессию с функционалом MSPE и его регуляризованным вариантом на обучающей выборке при помощи метода градиентного спуска и изобразите кривые зависимости значения функционала от номера итерации. Исследуйте зависимость скорости сходимости от наличия регуляризации. Обоснуйте, почему так происходит."
   ]
  },
  {
   "cell_type": "code",
   "execution_count": null,
   "metadata": {
    "collapsed": true
   },
   "outputs": [],
   "source": [
    "# Your code here"
   ]
  },
  {
   "cell_type": "markdown",
   "metadata": {},
   "source": [
    "Метод градиентного спуска может быть весьма трудозатратен в случае большого размера обучающей выборки. Поэтому часто используют метод стохастического градиентного спуска, где на каждой итерации выбирается случайный объект из обучающей выборки и обновление весов происходит только по этому объекту. \n",
    "\n",
    "**23. (1 доп. балл)**  Реализуйте метод стохастического градиентного спуска (SGD) для описанных функционалов ($MSPE$ и его регуляризованный вариант). Функция должна иметь параметры и возвращаемое значение, аналогичные оным функции grad\\_descent из п.21. Кроме того, должен использоваться аналогичный критерий останова."
   ]
  },
  {
   "cell_type": "code",
   "execution_count": null,
   "metadata": {
    "collapsed": true
   },
   "outputs": [],
   "source": [
    "def sgd(X, y, step_size, max_iter, eps, is_reg):\n",
    "    # Your code here"
   ]
  },
  {
   "cell_type": "markdown",
   "metadata": {},
   "source": [
    "Обучите линейную регрессию с функционалом $MSPE$ и его регуляризованным вариантом на обучающей выборке при помощи метода стохастического градиентного спуска, подобрав при этом размер шага, при котором метод будет сходиться. Нарисуйте график сходимости. Выведите значения $MSPE, MSE, R^2$ на контрольной выборке."
   ]
  },
  {
   "cell_type": "code",
   "execution_count": null,
   "metadata": {
    "collapsed": true
   },
   "outputs": [],
   "source": [
    "# Your code here"
   ]
  },
  {
   "cell_type": "markdown",
   "metadata": {},
   "source": [
    "**24. (0.5 доп. балла)** Аналогично п.22 исследуйте зависимость скорости сходимости метода SGD от наличия регуляризации. Обоснуйте, почему так происходит."
   ]
  },
  {
   "cell_type": "code",
   "execution_count": null,
   "metadata": {
    "collapsed": true
   },
   "outputs": [],
   "source": [
    "# Your code here"
   ]
  },
  {
   "cell_type": "markdown",
   "metadata": {},
   "source": [
    "**25. (0.5 балла)** Обучите стандартную линейную регрессию с функционалом качества MSE на обучающей выборке и выведите значение MSPE полученного решения на контрольной выборке. Как оно соотносится с аналогичным результатом для решения, полученного в п.22? Почему?"
   ]
  },
  {
   "cell_type": "code",
   "execution_count": null,
   "metadata": {
    "collapsed": true
   },
   "outputs": [],
   "source": [
    "# Your code here"
   ]
  },
  {
   "cell_type": "markdown",
   "metadata": {},
   "source": [
    "Здесь вы можете поделиться своими мыслями по поводу этого задания."
   ]
  },
  {
   "cell_type": "code",
   "execution_count": null,
   "metadata": {
    "collapsed": true
   },
   "outputs": [],
   "source": []
  },
  {
   "cell_type": "markdown",
   "metadata": {},
   "source": [
    "А здесь — вставить вашу любимую картинку."
   ]
  },
  {
   "cell_type": "code",
   "execution_count": null,
   "metadata": {
    "collapsed": true
   },
   "outputs": [],
   "source": []
  }
 ],
 "metadata": {
  "kernelspec": {
   "display_name": "Python 3",
   "language": "python",
   "name": "python3"
  },
  "language_info": {
   "codemirror_mode": {
    "name": "ipython",
    "version": 3
   },
   "file_extension": ".py",
   "mimetype": "text/x-python",
   "name": "python",
   "nbconvert_exporter": "python",
   "pygments_lexer": "ipython3",
   "version": "3.7.3"
  }
 },
 "nbformat": 4,
 "nbformat_minor": 1
}
